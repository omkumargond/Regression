{
  "nbformat": 4,
  "nbformat_minor": 0,
  "metadata": {
    "colab": {
      "provenance": []
    },
    "kernelspec": {
      "name": "python3",
      "display_name": "Python 3"
    },
    "language_info": {
      "name": "python"
    }
  },
  "cells": [
    {
      "cell_type": "markdown",
      "source": [
        "Question 1: What is Simple Linear Regression?\n",
        "\n",
        "- Answer- Simple Linear Regression is a statistical method used to model the relationship between two variables:\n",
        "One independent variable (predictor, input, or feature), typically denoted as\n",
        "𝑋\n",
        "X\n",
        "\n",
        " One dependent variable (response or output), typically denoted as\n",
        "𝑌\n",
        "Y\n",
        "\n",
        "Question 2: What are the key assumptions of Simple Linear Regression?\n",
        "\n",
        "- Answer- Linearity – Relationship between X and Y is linear.\n",
        "\n",
        " Independence – Observations are independent.\n",
        "\n",
        " Homoscedasticity – Constant variance of residuals.\n",
        "\n",
        " Normality – Residuals are normally distributed.\n",
        "\n",
        " No Multicollinearity – Not applicable in simple regression (only one predictor).\n",
        "\n",
        "Question 3: What is heteroscedasticity, and why is it important to address in regression\n",
        "models?\n",
        "\n",
        "- Answer- Heteroscedasticity means that the variance of the residuals (errors) is not constant across all values of the independent variable.\n",
        "\n",
        " In simple terms:\n",
        "\n",
        " The spread of the errors changes as the value of X changes.\n",
        "\n",
        " This violates one of the key assumptions of linear regression (homoscedasticity).\n",
        "\n",
        "Question 4: What is Multiple Linear Regression?\n",
        " - Answer- Multiple Linear Regression (MLR) is a statistical method used to model the relationship between one dependent variable (Y) and two or more independent variables (X₁, X₂, X₃, ...).\n",
        "\n",
        "Question 5: What is polynomial regression, and how does it differ from linear\n",
        "regression?\n",
        "- Answer- Polynomial Regression is a type of regression where the relationship between the independent variable\n",
        "𝑋\n",
        "X and the dependent variable\n",
        "𝑌\n",
        "Y is modeled as an nth-degree polynomial.\n",
        "\n",
        " Equation:\n",
        "Y=β0​+β1​X+β2​X2+β3​X3+⋯+βn​Xn+ε\n",
        "\n",
        "\n",
        "\n"
      ],
      "metadata": {
        "id": "8i2IjHHPMzaF"
      }
    },
    {
      "cell_type": "code",
      "source": [
        "#Question 6: Implement a Python program to fit a Simple Linear Regression model to the following sample data:\n",
        "#● X = [1, 2, 3, 4, 5]\n",
        "#● Y = [2.1, 4.3, 6.1, 7.9, 10.2]\n",
        "#Plot the regression line over the data points.\n",
        "'''\n",
        "# Import necessary libraries\n",
        "import numpy as np\n",
        "import matplotlib.pyplot as plt\n",
        "from sklearn.linear_model import LinearRegression\n",
        "\n",
        "# Sample data\n",
        "X = np.array([1, 2, 3, 4, 5]).reshape(-1, 1)  # Reshape for sklearn\n",
        "Y = np.array([2.1, 4.3, 6.1, 7.9, 10.2])\n",
        "\n",
        "# Create and fit the model\n",
        "model = LinearRegression()\n",
        "model.fit(X, Y)\n",
        "\n",
        "# Get the regression line values\n",
        "Y_pred = model.predict(X)\n",
        "\n",
        "# Print model parameters\n",
        "print(\"Intercept (β0):\", model.intercept_)\n",
        "print(\"Slope (β1):\", model.coef_[0])\n",
        "\n",
        "# Plot the data points and regression line\n",
        "plt.scatter(X, Y, color='blue', label='Actual Data')\n",
        "plt.plot(X, Y_pred, color='red', label='Regression Line')\n",
        "plt.xlabel(\"X\")\n",
        "plt.ylabel(\"Y\")\n",
        "plt.title(\"Simple Linear Regression\")\n",
        "plt.legend()\n",
        "plt.grid(True)\n",
        "plt.show()\n",
        "'''"
      ],
      "metadata": {
        "colab": {
          "base_uri": "https://localhost:8080/",
          "height": 105
        },
        "id": "Ja07ZfnpPJQ-",
        "outputId": "4c4901b8-9885-4177-9051-9dcbb9b41f51"
      },
      "execution_count": 2,
      "outputs": [
        {
          "output_type": "execute_result",
          "data": {
            "text/plain": [
              "'\\n# Import necessary libraries\\nimport numpy as np\\nimport matplotlib.pyplot as plt\\nfrom sklearn.linear_model import LinearRegression\\n\\n# Sample data\\nX = np.array([1, 2, 3, 4, 5]).reshape(-1, 1)  # Reshape for sklearn\\nY = np.array([2.1, 4.3, 6.1, 7.9, 10.2])\\n\\n# Create and fit the model\\nmodel = LinearRegression()\\nmodel.fit(X, Y)\\n\\n# Get the regression line values\\nY_pred = model.predict(X)\\n\\n# Print model parameters\\nprint(\"Intercept (β0):\", model.intercept_)\\nprint(\"Slope (β1):\", model.coef_[0])\\n\\n# Plot the data points and regression line\\nplt.scatter(X, Y, color=\\'blue\\', label=\\'Actual Data\\')\\nplt.plot(X, Y_pred, color=\\'red\\', label=\\'Regression Line\\')\\nplt.xlabel(\"X\")\\nplt.ylabel(\"Y\")\\nplt.title(\"Simple Linear Regression\")\\nplt.legend()\\nplt.grid(True)\\nplt.show()\\n'"
            ],
            "application/vnd.google.colaboratory.intrinsic+json": {
              "type": "string"
            }
          },
          "metadata": {},
          "execution_count": 2
        }
      ]
    },
    {
      "cell_type": "code",
      "source": [
        "#Question 7: Fit a Multiple Linear Regression model on this sample data:\n",
        "#● Area = [1200, 1500, 1800, 2000]\n",
        "#● Rooms = [2, 3, 3, 4]\n",
        "#● Price = [250000, 300000, 320000, 370000]\n",
        "'''\n",
        "import numpy as np\n",
        "import pandas as pd\n",
        "from sklearn.linear_model import LinearRegression\n",
        "from statsmodels.stats.outliers_influence import variance_inflation_factor\n",
        "import statsmodels.api as sm\n",
        "\n",
        "# Sample data\n",
        "data = pd.DataFrame({\n",
        "    'Area': [1200, 1500, 1800, 2000],\n",
        "    'Rooms': [2, 3, 3, 4],\n",
        "    'Price': [250000, 300000, 320000, 370000]\n",
        "})\n",
        "\n",
        "# Independent variables\n",
        "X = data[['Area', 'Rooms']]\n",
        "y = data['Price']\n",
        "\n",
        "# Fit the Multiple Linear Regression model\n",
        "model = LinearRegression()\n",
        "model.fit(X, y)\n",
        "\n",
        "# Print model coefficients\n",
        "print(\"Intercept (β0):\", model.intercept_)\n",
        "print(\"Coefficients (β1, β2):\", model.coef_)\n",
        "\n",
        "# Add constant term for VIF calculation\n",
        "X_vif = sm.add_constant(X)\n",
        "\n",
        "# Calculate VIF\n",
        "vif_data = pd.DataFrame()\n",
        "vif_data['Feature'] = X_vif.columns\n",
        "vif_data['VIF'] = [variance_inflation_factor(X_vif.values, i) for i in range(X_vif.shape[1])]\n",
        "\n",
        "print(\"\\nVariance Inflation Factor (VIF):\")\n",
        "print(vif_data)\n",
        "'''"
      ],
      "metadata": {
        "colab": {
          "base_uri": "https://localhost:8080/",
          "height": 122
        },
        "id": "_fRnGZKePclQ",
        "outputId": "1d461e0a-c3ed-45fd-9540-36f15b826074"
      },
      "execution_count": 3,
      "outputs": [
        {
          "output_type": "execute_result",
          "data": {
            "text/plain": [
              "'\\nimport numpy as np\\nimport pandas as pd\\nfrom sklearn.linear_model import LinearRegression\\nfrom statsmodels.stats.outliers_influence import variance_inflation_factor\\nimport statsmodels.api as sm\\n\\n# Sample data\\ndata = pd.DataFrame({\\n    \\'Area\\': [1200, 1500, 1800, 2000],\\n    \\'Rooms\\': [2, 3, 3, 4],\\n    \\'Price\\': [250000, 300000, 320000, 370000]\\n})\\n\\n# Independent variables\\nX = data[[\\'Area\\', \\'Rooms\\']]\\ny = data[\\'Price\\']\\n\\n# Fit the Multiple Linear Regression model\\nmodel = LinearRegression()\\nmodel.fit(X, y)\\n\\n# Print model coefficients\\nprint(\"Intercept (β0):\", model.intercept_)\\nprint(\"Coefficients (β1, β2):\", model.coef_)\\n\\n# Add constant term for VIF calculation\\nX_vif = sm.add_constant(X)\\n\\n# Calculate VIF\\nvif_data = pd.DataFrame()\\nvif_data[\\'Feature\\'] = X_vif.columns\\nvif_data[\\'VIF\\'] = [variance_inflation_factor(X_vif.values, i) for i in range(X_vif.shape[1])]\\n\\nprint(\"\\nVariance Inflation Factor (VIF):\")\\nprint(vif_data)\\n'"
            ],
            "application/vnd.google.colaboratory.intrinsic+json": {
              "type": "string"
            }
          },
          "metadata": {},
          "execution_count": 3
        }
      ]
    },
    {
      "cell_type": "code",
      "source": [
        "#Question 8: Implement polynomial regression on the following data:\n",
        "#● X = [1, 2, 3, 4, 5]\n",
        "#● Y = [2.2, 4.8, 7.5, 11.2, 14.7]\n",
        "#Fit a 2nd-degree polynomial and plot the resulting curve.\n",
        "'''\n",
        "import numpy as np\n",
        "import matplotlib.pyplot as plt\n",
        "from sklearn.preprocessing import PolynomialFeatures\n",
        "from sklearn.linear_model import LinearRegression\n",
        "\n",
        "# Sample data\n",
        "X = np.array([1, 2, 3, 4, 5]).reshape(-1, 1)\n",
        "Y = np.array([2.2, 4.8, 7.5, 11.2, 14.7])\n",
        "\n",
        "# Create 2nd-degree polynomial features\n",
        "poly = PolynomialFeatures(degree=2)\n",
        "X_poly = poly.fit_transform(X)\n",
        "\n",
        "# Fit the Polynomial Regression model\n",
        "model = LinearRegression()\n",
        "model.fit(X_poly, Y)\n",
        "\n",
        "# Predict using the model\n",
        "Y_pred = model.predict(X_poly)\n",
        "\n",
        "# Print model coefficients\n",
        "print(\"Intercept (β0):\", model.intercept_)\n",
        "print(\"Coefficients (β1, β2):\", model.coef_)\n",
        "\n",
        "# Plot the original data and the polynomial curve\n",
        "plt.scatter(X, Y, color='blue', label='Actual Data')\n",
        "plt.plot(X, Y_pred, color='red', label='2nd Degree Polynomial Fit')\n",
        "plt.xlabel(\"X\")\n",
        "plt.ylabel(\"Y\")\n",
        "plt.title(\"Polynomial Regression (Degree 2)\")\n",
        "plt.legend()\n",
        "plt.grid(True)\n",
        "plt.show()\n",
        "'''"
      ],
      "metadata": {
        "colab": {
          "base_uri": "https://localhost:8080/",
          "height": 122
        },
        "id": "ZAAsvN8uPs3Q",
        "outputId": "f7e2d53c-d88b-4076-ffb8-12e12cf240e1"
      },
      "execution_count": 5,
      "outputs": [
        {
          "output_type": "execute_result",
          "data": {
            "text/plain": [
              "'\\nimport numpy as np\\nimport matplotlib.pyplot as plt\\nfrom sklearn.preprocessing import PolynomialFeatures\\nfrom sklearn.linear_model import LinearRegression\\n\\n# Sample data\\nX = np.array([1, 2, 3, 4, 5]).reshape(-1, 1)\\nY = np.array([2.2, 4.8, 7.5, 11.2, 14.7])\\n\\n# Create 2nd-degree polynomial features\\npoly = PolynomialFeatures(degree=2)\\nX_poly = poly.fit_transform(X)\\n\\n# Fit the Polynomial Regression model\\nmodel = LinearRegression()\\nmodel.fit(X_poly, Y)\\n\\n# Predict using the model\\nY_pred = model.predict(X_poly)\\n\\n# Print model coefficients\\nprint(\"Intercept (β0):\", model.intercept_)\\nprint(\"Coefficients (β1, β2):\", model.coef_)\\n\\n# Plot the original data and the polynomial curve\\nplt.scatter(X, Y, color=\\'blue\\', label=\\'Actual Data\\')\\nplt.plot(X, Y_pred, color=\\'red\\', label=\\'2nd Degree Polynomial Fit\\')\\nplt.xlabel(\"X\")\\nplt.ylabel(\"Y\")\\nplt.title(\"Polynomial Regression (Degree 2)\")\\nplt.legend()\\nplt.grid(True)\\nplt.show()\\n'"
            ],
            "application/vnd.google.colaboratory.intrinsic+json": {
              "type": "string"
            }
          },
          "metadata": {},
          "execution_count": 5
        }
      ]
    },
    {
      "cell_type": "code",
      "source": [
        "#Question 9: Create a residuals plot for a regression model trained on this data:\n",
        "#● X = [10, 20, 30, 40, 50]\n",
        "#● Y = [15, 35, 40, 50, 65]\n",
        "#Assess heteroscedasticity by examining the spread of residuals.\n",
        "'''\n",
        "import numpy as np\n",
        "import matplotlib.pyplot as plt\n",
        "from sklearn.linear_model import LinearRegression\n",
        "\n",
        "# Sample data\n",
        "X = np.array([10, 20, 30, 40, 50]).reshape(-1, 1)\n",
        "Y = np.array([15, 35, 40, 50, 65])\n",
        "\n",
        "# Train a simple linear regression model\n",
        "model = LinearRegression()\n",
        "model.fit(X, Y)\n",
        "\n",
        "# Predict values\n",
        "Y_pred = model.predict(X)\n",
        "\n",
        "# Calculate residuals\n",
        "residuals = Y - Y_pred\n",
        "\n",
        "# Print residuals\n",
        "print(\"Residuals:\", residuals)\n",
        "\n",
        "# Plot residuals\n",
        "plt.scatter(X, residuals, color='purple', marker='o')\n",
        "plt.axhline(y=0, color='black', linestyle='--')\n",
        "plt.xlabel(\"X\")\n",
        "plt.ylabel(\"Residuals\")\n",
        "plt.title(\"Residuals Plot\")\n",
        "plt.grid(True)\n",
        "plt.show()\n",
        "'''"
      ],
      "metadata": {
        "colab": {
          "base_uri": "https://localhost:8080/",
          "height": 88
        },
        "id": "uXdtKsDxQDXS",
        "outputId": "7f73e512-b5df-49f9-eda5-a0869e126fbb"
      },
      "execution_count": 6,
      "outputs": [
        {
          "output_type": "execute_result",
          "data": {
            "text/plain": [
              "'\\nimport numpy as np\\nimport matplotlib.pyplot as plt\\nfrom sklearn.linear_model import LinearRegression\\n\\n# Sample data\\nX = np.array([10, 20, 30, 40, 50]).reshape(-1, 1)\\nY = np.array([15, 35, 40, 50, 65])\\n\\n# Train a simple linear regression model\\nmodel = LinearRegression()\\nmodel.fit(X, Y)\\n\\n# Predict values\\nY_pred = model.predict(X)\\n\\n# Calculate residuals\\nresiduals = Y - Y_pred\\n\\n# Print residuals\\nprint(\"Residuals:\", residuals)\\n\\n# Plot residuals\\nplt.scatter(X, residuals, color=\\'purple\\', marker=\\'o\\')\\nplt.axhline(y=0, color=\\'black\\', linestyle=\\'--\\')\\nplt.xlabel(\"X\")\\nplt.ylabel(\"Residuals\")\\nplt.title(\"Residuals Plot\")\\nplt.grid(True)\\nplt.show()\\n'"
            ],
            "application/vnd.google.colaboratory.intrinsic+json": {
              "type": "string"
            }
          },
          "metadata": {},
          "execution_count": 6
        }
      ]
    },
    {
      "cell_type": "markdown",
      "source": [
        "Question 10: Imagine you are a data scientist working for a real estate company. You\n",
        "need to predict house prices using features like area, number of rooms, and location.\n",
        "However, you detect heteroscedasticity and multicollinearity in your regression\n",
        "model. Explain the steps you would take to address these issues and ensure a robust\n",
        "model.\n",
        "\n",
        "- Answer- Handling Heteroscedasticity & Multicollinearity in Regression\n",
        "Heteroscedasticity:\n",
        "\n",
        " Apply log or square root transformation on the target variable (price).\n",
        "\n",
        " Use robust regression or Weighted Least Squares.\n",
        "\n",
        " Check for and remove outliers.\n",
        "\n",
        " Multicollinearity:\n",
        "\n",
        " Remove or combine correlated features (e.g., rooms and area).\n",
        "\n",
        " Use PCA to reduce correlated variables.\n",
        "\n",
        " Apply Ridge or Lasso regression to reduce impact."
      ],
      "metadata": {
        "id": "rIz8Iw2FQy1B"
      }
    },
    {
      "cell_type": "code",
      "source": [],
      "metadata": {
        "id": "jjDphjlGRHHK"
      },
      "execution_count": null,
      "outputs": []
    }
  ]
}